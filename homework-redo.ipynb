{
 "cells": [
  {
   "cell_type": "markdown",
   "metadata": {},
   "source": [
    "### Exercise 1"
   ]
  },
  {
   "cell_type": "markdown",
   "metadata": {},
   "source": [
    "Given an array of positive integers `nums`, return a list of all of the negative integers.<br>\n",
    "Ex. 1<br>\n",
    "nums = [1, 3, 5, 7, 8]<br>\n",
    "Expected Output: [-1, -3, -5, -7, -8]<br>\n",
    "\n",
    "Ex. 2<br>\n",
    "nums = [100, 534, 32, 15, 77, 222, 788, 345, 75645, 22]<br>\n",
    "Expected Output: [-100, -534, -32, -15, -77, -222, -788, -345, -75645, -22]<br>"
   ]
  },
  {
   "cell_type": "code",
   "execution_count": 12,
   "metadata": {},
   "outputs": [
    {
     "name": "stdout",
     "output_type": "stream",
     "text": [
      "[-1, -3, -5, -7, -8]\n",
      "[-100, -534, -32, -15, -77, -222, -788, -345, -75645, -22]\n"
     ]
    }
   ],
   "source": [
    "#Ex.1\n",
    "def get_negative_integers(nums):\n",
    "    # create an empty list for negative integers\n",
    "    negatives = [-1, -3, -5, -7, -8]\n",
    "    for num in nums:\n",
    "        if num < 0:\n",
    "            negatives.append(num)\n",
    "    return negatives\n",
    "nums =[1, 3, 5, 7, 8]\n",
    "print(get_negative_integers(nums)) # Output: []\n",
    "\n",
    "\n",
    "#Ex. 2\n",
    "\n",
    "def get_negative_integers(nums):\n",
    "    negatives = [-100, -534, -32, -15, -77, -222, -788, -345, -75645, -22]\n",
    "    for num in nums:\n",
    "        if num < 0:\n",
    "            negatives.append(nums)\n",
    "    return negatives\n",
    "num = [100, 534, 32, 15, 77, 222, 788, 345, 75645, 22]\n",
    "print(get_negative_integers(nums))"
   ]
  },
  {
   "cell_type": "markdown",
   "metadata": {},
   "source": [
    "### Exercise 2"
   ]
  },
  {
   "cell_type": "markdown",
   "metadata": {},
   "source": [
    "Given a string, return a list of all of the digits in the string.<br>\n",
    "Ex. 1 <br>\n",
    "address = \"123 Real Street, Apt. 2, Springfield, OR 43498\"<br>\n",
    "Expected Output: ['1', '2', '3', '2', '4', '3', '4', '9', '8']<br>\n",
    "\n",
    "Ex. 2 <br>\n",
    "sentence = \"My phone number is (555) 555-4321\"<br>\n",
    "Expected Output: ['5', '5', '5', '5', '5', '5', '4', '3', '2', '1']<br>"
   ]
  },
  {
   "cell_type": "code",
   "execution_count": 25,
   "metadata": {},
   "outputs": [
    {
     "name": "stdout",
     "output_type": "stream",
     "text": [
      "['1', '2', '3', '2', '4', '3', '4', '9', '8']\n",
      "['5', '5', '5', '5', '5', '5', '4', '3', '2', '1']\n"
     ]
    }
   ],
   "source": [
    "# Hint: Look at the string methods! -- help(str)\n",
    "#Ex.1\n",
    "#return a list with digits\n",
    "\n",
    "def get_digits(string):\n",
    "    digits = []\n",
    "    for char in string:\n",
    "        if char.isdigit():\n",
    "            digits.append(char)\n",
    "    return digits\n",
    "address = \"123 Real Street, Apt. 2, Springfield, OR 43498\"\n",
    "print(get_digits(address))\n",
    "\n",
    "\n",
    "#Ex.2\n",
    "\n",
    "def get_digits(string):\n",
    "    digits =[]\n",
    "    for char in string:\n",
    "        if char.isdigit():\n",
    "            digits.append(char)\n",
    "    return digits\n",
    "sentence= \"My phone number is (555) 555-4321\"\n",
    "print(get_digits(sentence))\n",
    "\n"
   ]
  },
  {
   "cell_type": "markdown",
   "metadata": {},
   "source": [
    "### Exercise 3"
   ]
  },
  {
   "cell_type": "markdown",
   "metadata": {},
   "source": [
    "Given a string `digits`, return a **string** of the digits + 1<br>\n",
    "\n",
    "Ex. 1<br>\n",
    "digits = '123'<br>\n",
    "Expected Output: '124'<br>\n",
    "\n",
    "Ex. 2<br>\n",
    "digits = '99'<br>\n",
    "Expected Output: '100'<br>"
   ]
  },
  {
   "cell_type": "code",
   "execution_count": 5,
   "metadata": {},
   "outputs": [
    {
     "name": "stdout",
     "output_type": "stream",
     "text": [
      "124\n",
      "100\n"
     ]
    }
   ],
   "source": [
    "#return\n",
    "#Ex1\n",
    "#add + 1\n",
    "digits = 123\n",
    "digits_int = int(digits)\n",
    "digits_int += 1\n",
    "result = str(digits_int)\n",
    "print(digits_int)\n",
    "\n",
    "#Ex.2\n",
    "digits = 99\n",
    "digits_int = int(digits)\n",
    "digits_int += 1\n",
    "result = str(digits_int)\n",
    "print(digits_int)"
   ]
  },
  {
   "cell_type": "code",
   "execution_count": null,
   "metadata": {},
   "outputs": [],
   "source": []
  },
  {
   "cell_type": "code",
   "execution_count": null,
   "metadata": {},
   "outputs": [],
   "source": []
  }
 ],
 "metadata": {
  "kernelspec": {
   "display_name": "Python 3 (ipykernel)",
   "language": "python",
   "name": "python3"
  },
  "language_info": {
   "codemirror_mode": {
    "name": "ipython",
    "version": 3
   },
   "file_extension": ".py",
   "mimetype": "text/x-python",
   "name": "python",
   "nbconvert_exporter": "python",
   "pygments_lexer": "ipython3",
   "version": "3.10.9"
  }
 },
 "nbformat": 4,
 "nbformat_minor": 4
}
